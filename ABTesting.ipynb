{
 "cells": [
  {
   "cell_type": "markdown",
   "id": "121659ed",
   "metadata": {},
   "source": [
    "# A / B Testing: for Fast-Food Marketing-Campaign\n",
    "\n",
    "\n",
    "## Introduction\n",
    "\n",
    "### Scenario\n",
    "A fast-food chain plans to add a new item to its menu. However, they are still undecided between three possible marketing campaigns for promoting the new product. In order to determine which promotion has the greater effect on sales, the new item is introduced at locations in several randomly selected markets. A different promotion is used at each location, and the weekly sales of the new item are recorded for the first four weeks.\n",
    "\n",
    "### Goal\n",
    "Decide which marketing strategy is relatively more effective at increasing sales revenue.\n",
    "\n",
    "### Columns\n",
    "\n",
    "MarketID: unique identifier for market\n",
    "\n",
    "MarketSize: size of market area by sales\n",
    "\n",
    "LocationID: unique identifier for store location\n",
    "\n",
    "AgeOfStore: age of store in years\n",
    "\n",
    "Promotion: one of three promotions that were tested\n",
    "\n",
    "week: one of four weeks when the promotions were run\n",
    "\n",
    "SalesInThousands: sales amount for a specific LocationID, Promotion, and week\n",
    "\n",
    "### Data\n",
    "https://www.kaggle.com/datasets/chebotinaa/fast-food-marketing-campaign-ab-test"
   ]
  },
  {
   "cell_type": "markdown",
   "id": "828ffe0b",
   "metadata": {},
   "source": [
    "## Load Libraries"
   ]
  },
  {
   "cell_type": "code",
   "execution_count": 73,
   "id": "b6e599e7",
   "metadata": {},
   "outputs": [],
   "source": [
    "import pandas as pd\n",
    "import numpy as np\n",
    "import matplotlib.pyplot as plt\n",
    "import seaborn as sns\n",
    "from statsmodels.stats.multicomp import pairwise_tukeyhsd\n",
    "from scipy.stats import mannwhitneyu\n",
    "import pingouin as pg\n"
   ]
  },
  {
   "cell_type": "markdown",
   "id": "6c25db83",
   "metadata": {},
   "source": [
    "## Exploratory Data Analysis"
   ]
  },
  {
   "cell_type": "markdown",
   "id": "d810eb48",
   "metadata": {},
   "source": [
    "First we load the dataset stored in a .csv file"
   ]
  },
  {
   "cell_type": "code",
   "execution_count": 3,
   "id": "e3d37a82",
   "metadata": {},
   "outputs": [],
   "source": [
    "df=pd.read_csv('C:\\\\Users\\\\mifab\\\\Documents\\\\Git\\\\Python_DS_Projects\\\\ABtest\\\\WA_Marketing-Campaign.csv')"
   ]
  },
  {
   "cell_type": "markdown",
   "id": "dc2c0e2a",
   "metadata": {},
   "source": [
    "We inpect a few random rows, the columns and their data types, as well as an overall description."
   ]
  },
  {
   "cell_type": "code",
   "execution_count": 7,
   "id": "38f4fa68",
   "metadata": {},
   "outputs": [
    {
     "data": {
      "text/html": [
       "<div>\n",
       "<style scoped>\n",
       "    .dataframe tbody tr th:only-of-type {\n",
       "        vertical-align: middle;\n",
       "    }\n",
       "\n",
       "    .dataframe tbody tr th {\n",
       "        vertical-align: top;\n",
       "    }\n",
       "\n",
       "    .dataframe thead th {\n",
       "        text-align: right;\n",
       "    }\n",
       "</style>\n",
       "<table border=\"1\" class=\"dataframe\">\n",
       "  <thead>\n",
       "    <tr style=\"text-align: right;\">\n",
       "      <th></th>\n",
       "      <th>MarketID</th>\n",
       "      <th>MarketSize</th>\n",
       "      <th>LocationID</th>\n",
       "      <th>AgeOfStore</th>\n",
       "      <th>Promotion</th>\n",
       "      <th>week</th>\n",
       "      <th>SalesInThousands</th>\n",
       "    </tr>\n",
       "  </thead>\n",
       "  <tbody>\n",
       "    <tr>\n",
       "      <th>39</th>\n",
       "      <td>1</td>\n",
       "      <td>Medium</td>\n",
       "      <td>10</td>\n",
       "      <td>5</td>\n",
       "      <td>2</td>\n",
       "      <td>4</td>\n",
       "      <td>35.16</td>\n",
       "    </tr>\n",
       "    <tr>\n",
       "      <th>315</th>\n",
       "      <td>6</td>\n",
       "      <td>Medium</td>\n",
       "      <td>514</td>\n",
       "      <td>6</td>\n",
       "      <td>1</td>\n",
       "      <td>4</td>\n",
       "      <td>39.67</td>\n",
       "    </tr>\n",
       "    <tr>\n",
       "      <th>341</th>\n",
       "      <td>7</td>\n",
       "      <td>Medium</td>\n",
       "      <td>606</td>\n",
       "      <td>8</td>\n",
       "      <td>3</td>\n",
       "      <td>2</td>\n",
       "      <td>42.27</td>\n",
       "    </tr>\n",
       "    <tr>\n",
       "      <th>503</th>\n",
       "      <td>10</td>\n",
       "      <td>Large</td>\n",
       "      <td>909</td>\n",
       "      <td>1</td>\n",
       "      <td>1</td>\n",
       "      <td>4</td>\n",
       "      <td>64.66</td>\n",
       "    </tr>\n",
       "    <tr>\n",
       "      <th>125</th>\n",
       "      <td>3</td>\n",
       "      <td>Large</td>\n",
       "      <td>213</td>\n",
       "      <td>4</td>\n",
       "      <td>2</td>\n",
       "      <td>2</td>\n",
       "      <td>75.88</td>\n",
       "    </tr>\n",
       "    <tr>\n",
       "      <th>233</th>\n",
       "      <td>5</td>\n",
       "      <td>Medium</td>\n",
       "      <td>409</td>\n",
       "      <td>14</td>\n",
       "      <td>2</td>\n",
       "      <td>2</td>\n",
       "      <td>48.33</td>\n",
       "    </tr>\n",
       "    <tr>\n",
       "      <th>455</th>\n",
       "      <td>9</td>\n",
       "      <td>Medium</td>\n",
       "      <td>807</td>\n",
       "      <td>1</td>\n",
       "      <td>2</td>\n",
       "      <td>4</td>\n",
       "      <td>55.91</td>\n",
       "    </tr>\n",
       "    <tr>\n",
       "      <th>106</th>\n",
       "      <td>3</td>\n",
       "      <td>Large</td>\n",
       "      <td>208</td>\n",
       "      <td>1</td>\n",
       "      <td>3</td>\n",
       "      <td>3</td>\n",
       "      <td>91.98</td>\n",
       "    </tr>\n",
       "    <tr>\n",
       "      <th>380</th>\n",
       "      <td>8</td>\n",
       "      <td>Medium</td>\n",
       "      <td>701</td>\n",
       "      <td>1</td>\n",
       "      <td>3</td>\n",
       "      <td>1</td>\n",
       "      <td>53.56</td>\n",
       "    </tr>\n",
       "    <tr>\n",
       "      <th>254</th>\n",
       "      <td>5</td>\n",
       "      <td>Medium</td>\n",
       "      <td>414</td>\n",
       "      <td>1</td>\n",
       "      <td>3</td>\n",
       "      <td>3</td>\n",
       "      <td>51.16</td>\n",
       "    </tr>\n",
       "  </tbody>\n",
       "</table>\n",
       "</div>"
      ],
      "text/plain": [
       "     MarketID MarketSize  LocationID  AgeOfStore  Promotion  week  \\\n",
       "39          1     Medium          10           5          2     4   \n",
       "315         6     Medium         514           6          1     4   \n",
       "341         7     Medium         606           8          3     2   \n",
       "503        10      Large         909           1          1     4   \n",
       "125         3      Large         213           4          2     2   \n",
       "233         5     Medium         409          14          2     2   \n",
       "455         9     Medium         807           1          2     4   \n",
       "106         3      Large         208           1          3     3   \n",
       "380         8     Medium         701           1          3     1   \n",
       "254         5     Medium         414           1          3     3   \n",
       "\n",
       "     SalesInThousands  \n",
       "39              35.16  \n",
       "315             39.67  \n",
       "341             42.27  \n",
       "503             64.66  \n",
       "125             75.88  \n",
       "233             48.33  \n",
       "455             55.91  \n",
       "106             91.98  \n",
       "380             53.56  \n",
       "254             51.16  "
      ]
     },
     "execution_count": 7,
     "metadata": {},
     "output_type": "execute_result"
    }
   ],
   "source": [
    "df.sample(10)"
   ]
  },
  {
   "cell_type": "code",
   "execution_count": 4,
   "id": "c182ff48",
   "metadata": {
    "scrolled": true
   },
   "outputs": [
    {
     "name": "stdout",
     "output_type": "stream",
     "text": [
      "<class 'pandas.core.frame.DataFrame'>\n",
      "RangeIndex: 548 entries, 0 to 547\n",
      "Data columns (total 7 columns):\n",
      " #   Column            Non-Null Count  Dtype  \n",
      "---  ------            --------------  -----  \n",
      " 0   MarketID          548 non-null    int64  \n",
      " 1   MarketSize        548 non-null    object \n",
      " 2   LocationID        548 non-null    int64  \n",
      " 3   AgeOfStore        548 non-null    int64  \n",
      " 4   Promotion         548 non-null    int64  \n",
      " 5   week              548 non-null    int64  \n",
      " 6   SalesInThousands  548 non-null    float64\n",
      "dtypes: float64(1), int64(5), object(1)\n",
      "memory usage: 30.1+ KB\n"
     ]
    }
   ],
   "source": [
    "df.info()"
   ]
  },
  {
   "cell_type": "markdown",
   "id": "9f30064a",
   "metadata": {},
   "source": [
    "There are 1 categorical column, 5 integer columns and a float column."
   ]
  },
  {
   "cell_type": "code",
   "execution_count": 5,
   "id": "8cf8f70d",
   "metadata": {},
   "outputs": [
    {
     "data": {
      "text/html": [
       "<div>\n",
       "<style scoped>\n",
       "    .dataframe tbody tr th:only-of-type {\n",
       "        vertical-align: middle;\n",
       "    }\n",
       "\n",
       "    .dataframe tbody tr th {\n",
       "        vertical-align: top;\n",
       "    }\n",
       "\n",
       "    .dataframe thead th {\n",
       "        text-align: right;\n",
       "    }\n",
       "</style>\n",
       "<table border=\"1\" class=\"dataframe\">\n",
       "  <thead>\n",
       "    <tr style=\"text-align: right;\">\n",
       "      <th></th>\n",
       "      <th>MarketID</th>\n",
       "      <th>LocationID</th>\n",
       "      <th>AgeOfStore</th>\n",
       "      <th>Promotion</th>\n",
       "      <th>week</th>\n",
       "      <th>SalesInThousands</th>\n",
       "    </tr>\n",
       "  </thead>\n",
       "  <tbody>\n",
       "    <tr>\n",
       "      <th>count</th>\n",
       "      <td>548.000000</td>\n",
       "      <td>548.000000</td>\n",
       "      <td>548.000000</td>\n",
       "      <td>548.000000</td>\n",
       "      <td>548.000000</td>\n",
       "      <td>548.000000</td>\n",
       "    </tr>\n",
       "    <tr>\n",
       "      <th>mean</th>\n",
       "      <td>5.715328</td>\n",
       "      <td>479.656934</td>\n",
       "      <td>8.503650</td>\n",
       "      <td>2.029197</td>\n",
       "      <td>2.500000</td>\n",
       "      <td>53.466204</td>\n",
       "    </tr>\n",
       "    <tr>\n",
       "      <th>std</th>\n",
       "      <td>2.877001</td>\n",
       "      <td>287.973679</td>\n",
       "      <td>6.638345</td>\n",
       "      <td>0.810729</td>\n",
       "      <td>1.119055</td>\n",
       "      <td>16.755216</td>\n",
       "    </tr>\n",
       "    <tr>\n",
       "      <th>min</th>\n",
       "      <td>1.000000</td>\n",
       "      <td>1.000000</td>\n",
       "      <td>1.000000</td>\n",
       "      <td>1.000000</td>\n",
       "      <td>1.000000</td>\n",
       "      <td>17.340000</td>\n",
       "    </tr>\n",
       "    <tr>\n",
       "      <th>25%</th>\n",
       "      <td>3.000000</td>\n",
       "      <td>216.000000</td>\n",
       "      <td>4.000000</td>\n",
       "      <td>1.000000</td>\n",
       "      <td>1.750000</td>\n",
       "      <td>42.545000</td>\n",
       "    </tr>\n",
       "    <tr>\n",
       "      <th>50%</th>\n",
       "      <td>6.000000</td>\n",
       "      <td>504.000000</td>\n",
       "      <td>7.000000</td>\n",
       "      <td>2.000000</td>\n",
       "      <td>2.500000</td>\n",
       "      <td>50.200000</td>\n",
       "    </tr>\n",
       "    <tr>\n",
       "      <th>75%</th>\n",
       "      <td>8.000000</td>\n",
       "      <td>708.000000</td>\n",
       "      <td>12.000000</td>\n",
       "      <td>3.000000</td>\n",
       "      <td>3.250000</td>\n",
       "      <td>60.477500</td>\n",
       "    </tr>\n",
       "    <tr>\n",
       "      <th>max</th>\n",
       "      <td>10.000000</td>\n",
       "      <td>920.000000</td>\n",
       "      <td>28.000000</td>\n",
       "      <td>3.000000</td>\n",
       "      <td>4.000000</td>\n",
       "      <td>99.650000</td>\n",
       "    </tr>\n",
       "  </tbody>\n",
       "</table>\n",
       "</div>"
      ],
      "text/plain": [
       "         MarketID  LocationID  AgeOfStore   Promotion        week  \\\n",
       "count  548.000000  548.000000  548.000000  548.000000  548.000000   \n",
       "mean     5.715328  479.656934    8.503650    2.029197    2.500000   \n",
       "std      2.877001  287.973679    6.638345    0.810729    1.119055   \n",
       "min      1.000000    1.000000    1.000000    1.000000    1.000000   \n",
       "25%      3.000000  216.000000    4.000000    1.000000    1.750000   \n",
       "50%      6.000000  504.000000    7.000000    2.000000    2.500000   \n",
       "75%      8.000000  708.000000   12.000000    3.000000    3.250000   \n",
       "max     10.000000  920.000000   28.000000    3.000000    4.000000   \n",
       "\n",
       "       SalesInThousands  \n",
       "count        548.000000  \n",
       "mean          53.466204  \n",
       "std           16.755216  \n",
       "min           17.340000  \n",
       "25%           42.545000  \n",
       "50%           50.200000  \n",
       "75%           60.477500  \n",
       "max           99.650000  "
      ]
     },
     "execution_count": 5,
     "metadata": {},
     "output_type": "execute_result"
    }
   ],
   "source": [
    "df.describe()"
   ]
  },
  {
   "cell_type": "markdown",
   "id": "cebcfa84",
   "metadata": {},
   "source": [
    "We check for empty and duplicate rows before analaysis."
   ]
  },
  {
   "cell_type": "code",
   "execution_count": 8,
   "id": "d0dd5c03",
   "metadata": {},
   "outputs": [
    {
     "data": {
      "text/plain": [
       "MarketID            0\n",
       "MarketSize          0\n",
       "LocationID          0\n",
       "AgeOfStore          0\n",
       "Promotion           0\n",
       "week                0\n",
       "SalesInThousands    0\n",
       "dtype: int64"
      ]
     },
     "execution_count": 8,
     "metadata": {},
     "output_type": "execute_result"
    }
   ],
   "source": [
    "df.isnull().sum()"
   ]
  },
  {
   "cell_type": "code",
   "execution_count": 9,
   "id": "3302fa25",
   "metadata": {
    "scrolled": true
   },
   "outputs": [
    {
     "name": "stdout",
     "output_type": "stream",
     "text": [
      "# of duplacated rows:  0\n"
     ]
    }
   ],
   "source": [
    "print(f\"# of duplacated rows: \", sum(df.duplicated()))"
   ]
  },
  {
   "cell_type": "markdown",
   "id": "7ae08dee",
   "metadata": {},
   "source": [
    "With neither found, we can proceed to inspect further the data.\\\n",
    "We proceed by grouping by the Promotion column, that is our interest and observe some statistical features of the response SalesInThousands."
   ]
  },
  {
   "cell_type": "code",
   "execution_count": 149,
   "id": "f8be8765",
   "metadata": {},
   "outputs": [
    {
     "data": {
      "text/html": [
       "<div>\n",
       "<style scoped>\n",
       "    .dataframe tbody tr th:only-of-type {\n",
       "        vertical-align: middle;\n",
       "    }\n",
       "\n",
       "    .dataframe tbody tr th {\n",
       "        vertical-align: top;\n",
       "    }\n",
       "\n",
       "    .dataframe thead th {\n",
       "        text-align: right;\n",
       "    }\n",
       "</style>\n",
       "<table border=\"1\" class=\"dataframe\">\n",
       "  <thead>\n",
       "    <tr style=\"text-align: right;\">\n",
       "      <th></th>\n",
       "      <th>count</th>\n",
       "      <th>mean</th>\n",
       "      <th>median</th>\n",
       "      <th>std</th>\n",
       "    </tr>\n",
       "    <tr>\n",
       "      <th>Promotion</th>\n",
       "      <th></th>\n",
       "      <th></th>\n",
       "      <th></th>\n",
       "      <th></th>\n",
       "    </tr>\n",
       "  </thead>\n",
       "  <tbody>\n",
       "    <tr>\n",
       "      <th>1</th>\n",
       "      <td>172</td>\n",
       "      <td>58.099012</td>\n",
       "      <td>55.385</td>\n",
       "      <td>16.553782</td>\n",
       "    </tr>\n",
       "    <tr>\n",
       "      <th>2</th>\n",
       "      <td>188</td>\n",
       "      <td>47.329415</td>\n",
       "      <td>45.385</td>\n",
       "      <td>15.108955</td>\n",
       "    </tr>\n",
       "    <tr>\n",
       "      <th>3</th>\n",
       "      <td>188</td>\n",
       "      <td>55.364468</td>\n",
       "      <td>51.165</td>\n",
       "      <td>16.766231</td>\n",
       "    </tr>\n",
       "  </tbody>\n",
       "</table>\n",
       "</div>"
      ],
      "text/plain": [
       "           count       mean  median        std\n",
       "Promotion                                     \n",
       "1            172  58.099012  55.385  16.553782\n",
       "2            188  47.329415  45.385  15.108955\n",
       "3            188  55.364468  51.165  16.766231"
      ]
     },
     "execution_count": 149,
     "metadata": {},
     "output_type": "execute_result"
    }
   ],
   "source": [
    "df.groupby(['Promotion'])['SalesInThousands'].agg(['count','mean','median','std'])"
   ]
  },
  {
   "cell_type": "markdown",
   "id": "09c70796",
   "metadata": {},
   "source": [
    "We visualise the distribution of the Promotion to see if there is a mayor difference between the groups."
   ]
  },
  {
   "cell_type": "code",
   "execution_count": 27,
   "id": "370b0068",
   "metadata": {},
   "outputs": [
    {
     "data": {
      "image/png": "[encoded data removed]",
      "text/plain": [
       "<Figure size 432x432 with 1 Axes>"
      ]
     },
     "metadata": {},
     "output_type": "display_data"
    }
   ],
   "source": [
    "sns.set_theme()\n",
    "plt.figure(figsize=(6,6))\n",
    "pie_labels = ['Promotion 1', 'Promotion 2', 'Promotion 3']\n",
    "plt.pie(df.groupby(['Promotion']).size().to_list(), \n",
    "        labels=pie_labels, autopct='%1.1f%%',textprops={'fontsize': 12})\n",
    "plt.title('Distribution of Promotions', fontsize=14)\n",
    "plt.show()"
   ]
  },
  {
   "cell_type": "markdown",
   "id": "90877420",
   "metadata": {},
   "source": [
    "The distribution of each Promotion seems evenly distributed. With this in mind, we proceed to showcase histograms for each one."
   ]
  },
  {
   "cell_type": "code",
   "execution_count": 31,
   "id": "fe246d98",
   "metadata": {},
   "outputs": [
    {
     "data": {
      "image/png": "[encoded data removed]",
      "text/plain": [
       "<Figure size 1080x360 with 3 Axes>"
      ]
     },
     "metadata": {},
     "output_type": "display_data"
    }
   ],
   "source": [
    "promo1 = df.loc[df['Promotion'] == 1]\n",
    "promo2 = df.loc[df['Promotion'] == 2]\n",
    "promo3 = df.loc[df['Promotion'] == 3]\n",
    "\n",
    "fig, axs = plt.subplots(1, 3, figsize=(15, 5))\n",
    "\n",
    "sns.histplot(data=promo1, x=\"SalesInThousands\", kde=True, color=\"blue\", ax=axs[0])\n",
    "sns.histplot(data=promo2, x=\"SalesInThousands\", kde=True, color=\"orange\", ax=axs[1])\n",
    "sns.histplot(data=promo3, x=\"SalesInThousands\", kde=True, color=\"green\", ax=axs[2])\n",
    "\n",
    "axs[0].set_title(\"Promotion 1\")\n",
    "axs[1].set_title(\"Promotion 2\")\n",
    "axs[2].set_title(\"Promotion 3\")\n",
    "fig.suptitle(\"Sales Revenue Distribution by Promotion Types\")\n",
    "plt.show()"
   ]
  },
  {
   "cell_type": "markdown",
   "id": "c48faf70",
   "metadata": {},
   "source": [
    "In order to run parametric tests such as ANOVA to compare the distributions, we need to confirm the assumptions of normality and homogeneity of variances (independence of the examples is assumed for this experiment). The figure above hints at the possibility this might not be the case, so for the former a Shapiro-Wilk test will be used and for the latter a Levene test."
   ]
  },
  {
   "cell_type": "markdown",
   "id": "b5e3b143",
   "metadata": {},
   "source": [
    "## Normality Test"
   ]
  },
  {
   "cell_type": "code",
   "execution_count": 34,
   "id": "db640956",
   "metadata": {},
   "outputs": [
    {
     "data": {
      "image/png": "[encoded data removed]",
      "text/plain": [
       "<Figure size 1440x432 with 3 Axes>"
      ]
     },
     "metadata": {},
     "output_type": "display_data"
    }
   ],
   "source": [
    "prom = df['Promotion'].unique()\n",
    "\n",
    "fig,axs = plt.subplots(1,3,figsize=(20,6))\n",
    "\n",
    "for aux,axs in zip(prom,axs):\n",
    "    stats.probplot(df[df['Promotion'] == aux]['SalesInThousands'], dist=\"norm\", plot=axs)\n",
    "    axs.set_title('Probability Plot for Promotion '+ str(aux))\n",
    "    axs.grid(True)"
   ]
  },
  {
   "cell_type": "markdown",
   "id": "2e064adb",
   "metadata": {},
   "source": [
    "QQplots of the three promotions indicate that they are rather a bimodal distribution than a normal one.\n",
    "\n",
    "##### Hypothesis :\n",
    "\n",
    "Null Hypothesis: Variance of Sales are of normal distribution.\n",
    "\n",
    "Alternative Hypothesis : Variance of Sales don't follow a normal distribution."
   ]
  },
  {
   "cell_type": "code",
   "execution_count": 42,
   "id": "edc60c7a",
   "metadata": {
    "scrolled": false
   },
   "outputs": [
    {
     "name": "stdout",
     "output_type": "stream",
     "text": [
      "Promo 1= ShapiroResult(statistic=0.9153000712394714, pvalue=1.9773297665892642e-08) \n",
      " Promo 2= ShapiroResult(statistic=0.9145088791847229, pvalue=5.456262108793908e-09) \n",
      " Promo 3= ShapiroResult(statistic=0.9207685589790344, pvalue=1.499518376135711e-08)\n"
     ]
    }
   ],
   "source": [
    "normtest1=stats.shapiro(##### Hypothesis :\n",
    "\n",
    "Null Hypothesis: Variance of Sales revenue is equal among groups.\n",
    "\n",
    "Alternative Hypothesis : Variance of Sales are different among groups.) \n",
    "normtest2=stats.shapiro(df[df['Promotion'] ==2]['SalesInThousands']) \n",
    "normtest3=stats.shapiro(df[df['Promotion'] ==3]['SalesInThousands']) \n",
    "print('Promo 1=',normtest1,'\\n','Promo 2=',normtest2,'\\n', 'Promo 3=',normtest3)"
   ]
  },
  {
   "cell_type": "markdown",
   "id": "768accb3",
   "metadata": {},
   "source": [
    "For all three distributions the test of normality fails."
   ]
  },
  {
   "cell_type": "markdown",
   "id": "e5240428",
   "metadata": {},
   "source": [
    "## Homogeneity of Variances Test"
   ]
  },
  {
   "cell_type": "markdown",
   "id": "1f334c79",
   "metadata": {},
   "source": [
    "##### Hypothesis :\n",
    "\n",
    "Null Hypothesis: Variance of Sales revenue is equal among groups.\n",
    "\n",
    "Alternative Hypothesis : Variance of Sales are different among groups."
   ]
  },
  {
   "cell_type": "code",
   "execution_count": 54,
   "id": "659ffed4",
   "metadata": {
    "scrolled": true
   },
   "outputs": [
    {
     "name": "stdout",
     "output_type": "stream",
     "text": [
      "               W      pval  equal_var\n",
      "levene  1.269679  0.281751       True\n"
     ]
    }
   ],
   "source": [
    "vartest=pg.homoscedasticity(df, dv='SalesInThousands', group='Promotion')\n",
    "print(vartest)"
   ]
  },
  {
   "cell_type": "markdown",
   "id": "df5bbe40",
   "metadata": {},
   "source": [
    "The null hypothesis is not rejected, however, we cant run ANOVA due to the reject of normality. \\\n",
    "Instead, we employ a Mann–Whitney U test for each pair.\\\n",
    "This is because Promotion 1 has less samples than Promotion 2 and 3, and this inbalance of samples forbid the use of Wilcoxon test without throwing away examples."
   ]
  },
  {
   "cell_type": "markdown",
   "id": "a477dcc5",
   "metadata": {},
   "source": [
    "## Comparison of Promotions"
   ]
  },
  {
   "cell_type": "markdown",
   "id": "25014ad0",
   "metadata": {},
   "source": [
    "##### Hypothesis :\n",
    "\n",
    "Null Hypothesis :Sales revenue between at least two promotion types are equal.\n",
    "\n",
    "Alternative Hypothesis : Sales revenue of one promotion is bigger."
   ]
  },
  {
   "cell_type": "code",
   "execution_count": 139,
   "id": "1191b065",
   "metadata": {
    "scrolled": false
   },
   "outputs": [
    {
     "name": "stdout",
     "output_type": "stream",
     "text": [
      "p value for promotion 1 and 2= 2.922967623419259e-12\n"
     ]
    }
   ],
   "source": [
    "mw_stat, mw_p_value = mannwhitneyu(df[df['Promotion'] ==1]['SalesInThousands'],\\\n",
    "                                   df[df['Promotion'] ==2]['SalesInThousands'],\\\n",
    "                                  alternative='greater')\n",
    "print('p value for promotion 1 and 2=', mw_p_value)"
   ]
  },
  {
   "cell_type": "markdown",
   "id": "7c3bc088",
   "metadata": {},
   "source": [
    "The null hypothesis is rejected, there is a significant difference between promotions 1 and 2."
   ]
  },
  {
   "cell_type": "code",
   "execution_count": 148,
   "id": "138e3786",
   "metadata": {},
   "outputs": [
    {
     "name": "stdout",
     "output_type": "stream",
     "text": [
      "p value for promotion 2 and 3= 5.985042220825902e-08\n"
     ]
    }
   ],
   "source": [
    "mw_stat, mw_p_value = mannwhitneyu(df[df['Promotion'] ==3]['SalesInThousands'],\\\n",
    "                                   df[df['Promotion'] ==2]['SalesInThousands'],\\\n",
    "                                   alternative='greater')\n",
    "\n",
    "print('p value for promotion 2 and 3=', mw_p_value)"
   ]
  },
  {
   "cell_type": "markdown",
   "id": "854e08ac",
   "metadata": {},
   "source": [
    "The null hypothesis is rejected, there is a significant difference between promotions 2 and 3"
   ]
  },
  {
   "cell_type": "code",
   "execution_count": 145,
   "id": "37d97617",
   "metadata": {
    "scrolled": false
   },
   "outputs": [
    {
     "name": "stdout",
     "output_type": "stream",
     "text": [
      "p value for promotion 1 and 3= 0.017542047846615602\n"
     ]
    }
   ],
   "source": [
    "mw_stat, mw_p_value = mannwhitneyu(df[df['Promotion'] ==1]['SalesInThousands'],\\\n",
    "                                   df[df['Promotion'] ==3]['SalesInThousands'],\\\n",
    "                                     alternative='greater')\n",
    "print('p value for promotion 1 and 3=', mw_p_value)"
   ]
  },
  {
   "cell_type": "markdown",
   "id": "50655076",
   "metadata": {},
   "source": [
    "The null hypothesis is rejected, there is a significant difference between promotions 1 and 3"
   ]
  },
  {
   "cell_type": "markdown",
   "id": "761b9e90",
   "metadata": {},
   "source": [
    "## Conclusion\n",
    "\n",
    "The answer to the client is that the promotion # 1 is the best promotion and should be considered.\\\n",
    "Promotion # 2 was less effective than promotion # 1 and promotion # 3.\\\n",
    "Lastly, promotion # 3 isn't as effective as promotion # 1.\\\n",
    "Further analysis could be done by grouping the AgeOfStore or MarketSize, where further differences between the promotions could be exploited."
   ]
  }
 ],
 "metadata": {
  "kernelspec": {
   "display_name": "Python 3 (ipykernel)",
   "language": "python",
   "name": "python3"
  },
  "language_info": {
   "codemirror_mode": {
    "name": "ipython",
    "version": 3
   },
   "file_extension": ".py",
   "mimetype": "text/x-python",
   "name": "python",
   "nbconvert_exporter": "python",
   "pygments_lexer": "ipython3",
   "version": "3.9.12"
  }
 },
 "nbformat": 4,
 "nbformat_minor": 5
}
